{
  "metadata": {
    "kernelspec": {
      "name": "python",
      "display_name": "Python (Pyodide)",
      "language": "python"
    },
    "language_info": {
      "codemirror_mode": {
        "name": "python",
        "version": 3
      },
      "file_extension": ".py",
      "mimetype": "text/x-python",
      "name": "python",
      "nbconvert_exporter": "python",
      "pygments_lexer": "ipython3",
      "version": "3.8"
    }
  },
  "nbformat_minor": 5,
  "nbformat": 4,
  "cells": [
    {
      "id": "6d49bf0f-206c-440d-8784-5efc91bcc07d",
      "cell_type": "markdown",
      "source": "# 🚀 SpaceX Falcon 9 Launch Analysis\n### Capstone Project by Samya Das\n\nThis notebook contains an end-to-end analysis of SpaceX Falcon 9 launch records, aiming to uncover insights and build a model to predict launch success outcomes.\n",
      "metadata": {}
    },
    {
      "id": "84e42225-7970-47cb-bfc0-24b7506186ee",
      "cell_type": "code",
      "source": "import pandas as pd\n\ndata = {\n    'Launch Site': ['CCAFS LC-40', 'VAFB SLC-4E', 'KSC LC-39A', 'CCAFS SLC-40']*5,\n    'Payload Mass (kg)': [3000, 4000, 5500, 6200, 3500, 7200, 1000, 4300, 3100, 2800, 4200, 5000, 4700, 2600, 5800, 3900, 6000, 7000, 3200, 5000],\n    'Booster Version Category': ['FT', 'v1.1', 'FT', 'Block 5']*5,\n    'class': [1, 1, 1, 0, 1, 0, 1, 1, 0, 0, 1, 1, 1, 0, 0, 1, 1, 1, 0, 1],\n    'Lat': [28.5623, 34.6321, 28.6084, 28.5632]*5,\n    'Long': [-80.5774, -120.6108, -80.6043, -80.5774]*5\n}\n\ndf = pd.DataFrame(data)\ndf.head()\n",
      "metadata": {
        "trusted": true
      },
      "outputs": [
        {
          "execution_count": 1,
          "output_type": "execute_result",
          "data": {
            "text/plain": "    Launch Site  Payload Mass (kg) Booster Version Category  class      Lat  \\\n0   CCAFS LC-40               3000                       FT      1  28.5623   \n1   VAFB SLC-4E               4000                     v1.1      1  34.6321   \n2    KSC LC-39A               5500                       FT      1  28.6084   \n3  CCAFS SLC-40               6200                  Block 5      0  28.5632   \n4   CCAFS LC-40               3500                       FT      1  28.5623   \n\n       Long  \n0  -80.5774  \n1 -120.6108  \n2  -80.6043  \n3  -80.5774  \n4  -80.5774  ",
            "text/html": "<div>\n<style scoped>\n    .dataframe tbody tr th:only-of-type {\n        vertical-align: middle;\n    }\n\n    .dataframe tbody tr th {\n        vertical-align: top;\n    }\n\n    .dataframe thead th {\n        text-align: right;\n    }\n</style>\n<table border=\"1\" class=\"dataframe\">\n  <thead>\n    <tr style=\"text-align: right;\">\n      <th></th>\n      <th>Launch Site</th>\n      <th>Payload Mass (kg)</th>\n      <th>Booster Version Category</th>\n      <th>class</th>\n      <th>Lat</th>\n      <th>Long</th>\n    </tr>\n  </thead>\n  <tbody>\n    <tr>\n      <th>0</th>\n      <td>CCAFS LC-40</td>\n      <td>3000</td>\n      <td>FT</td>\n      <td>1</td>\n      <td>28.5623</td>\n      <td>-80.5774</td>\n    </tr>\n    <tr>\n      <th>1</th>\n      <td>VAFB SLC-4E</td>\n      <td>4000</td>\n      <td>v1.1</td>\n      <td>1</td>\n      <td>34.6321</td>\n      <td>-120.6108</td>\n    </tr>\n    <tr>\n      <th>2</th>\n      <td>KSC LC-39A</td>\n      <td>5500</td>\n      <td>FT</td>\n      <td>1</td>\n      <td>28.6084</td>\n      <td>-80.6043</td>\n    </tr>\n    <tr>\n      <th>3</th>\n      <td>CCAFS SLC-40</td>\n      <td>6200</td>\n      <td>Block 5</td>\n      <td>0</td>\n      <td>28.5632</td>\n      <td>-80.5774</td>\n    </tr>\n    <tr>\n      <th>4</th>\n      <td>CCAFS LC-40</td>\n      <td>3500</td>\n      <td>FT</td>\n      <td>1</td>\n      <td>28.5623</td>\n      <td>-80.5774</td>\n    </tr>\n  </tbody>\n</table>\n</div>"
          },
          "metadata": {}
        }
      ],
      "execution_count": 1
    },
    {
      "id": "d19ccf62-6c0b-41a0-bbf7-7dbdff729daa",
      "cell_type": "code",
      "source": "# Load data (adjust if from web or API)\ndf = pd.read_csv(\"spacex_launch_dash.csv\")\ndf.head()\n",
      "metadata": {
        "trusted": true
      },
      "outputs": [
        {
          "execution_count": 2,
          "output_type": "execute_result",
          "data": {
            "text/plain": "    Launch Site  Payload Mass (kg) Booster Version Category  class      Lat  \\\n0   CCAFS LC-40               3000                       FT      1  28.5623   \n1   VAFB SLC-4E               4000                     v1.1      1  34.6321   \n2    KSC LC-39A               5500                       FT      1  28.6084   \n3  CCAFS SLC-40               6200                  Block 5      0  28.5632   \n4   CCAFS LC-40               3500                       FT      1  28.5623   \n\n       Long  \n0  -80.5774  \n1 -120.6108  \n2  -80.6043  \n3  -80.5774  \n4  -80.5774  ",
            "text/html": "<div>\n<style scoped>\n    .dataframe tbody tr th:only-of-type {\n        vertical-align: middle;\n    }\n\n    .dataframe tbody tr th {\n        vertical-align: top;\n    }\n\n    .dataframe thead th {\n        text-align: right;\n    }\n</style>\n<table border=\"1\" class=\"dataframe\">\n  <thead>\n    <tr style=\"text-align: right;\">\n      <th></th>\n      <th>Launch Site</th>\n      <th>Payload Mass (kg)</th>\n      <th>Booster Version Category</th>\n      <th>class</th>\n      <th>Lat</th>\n      <th>Long</th>\n    </tr>\n  </thead>\n  <tbody>\n    <tr>\n      <th>0</th>\n      <td>CCAFS LC-40</td>\n      <td>3000</td>\n      <td>FT</td>\n      <td>1</td>\n      <td>28.5623</td>\n      <td>-80.5774</td>\n    </tr>\n    <tr>\n      <th>1</th>\n      <td>VAFB SLC-4E</td>\n      <td>4000</td>\n      <td>v1.1</td>\n      <td>1</td>\n      <td>34.6321</td>\n      <td>-120.6108</td>\n    </tr>\n    <tr>\n      <th>2</th>\n      <td>KSC LC-39A</td>\n      <td>5500</td>\n      <td>FT</td>\n      <td>1</td>\n      <td>28.6084</td>\n      <td>-80.6043</td>\n    </tr>\n    <tr>\n      <th>3</th>\n      <td>CCAFS SLC-40</td>\n      <td>6200</td>\n      <td>Block 5</td>\n      <td>0</td>\n      <td>28.5632</td>\n      <td>-80.5774</td>\n    </tr>\n    <tr>\n      <th>4</th>\n      <td>CCAFS LC-40</td>\n      <td>3500</td>\n      <td>FT</td>\n      <td>1</td>\n      <td>28.5623</td>\n      <td>-80.5774</td>\n    </tr>\n  </tbody>\n</table>\n</div>"
          },
          "metadata": {}
        }
      ],
      "execution_count": 2
    },
    {
      "id": "4c1f479e-32a5-4126-ac53-e5dddbc9a69d",
      "cell_type": "code",
      "source": "# Overview of dataset\ndf.info()\ndf.describe()\n\n# Success rate by launch site\nsite_success = df.groupby('Launch Site')['class'].mean().sort_values(ascending=False)\nsite_success.plot(kind='bar', title='Success Rate by Launch Site')\nplt.show()\n\n# Payload vs. Success\nsns.scatterplot(data=df, x='Payload Mass (kg)', y='class', hue='Booster Version Category')\nplt.title('Payload vs Launch Outcome')\nplt.show()\n",
      "metadata": {
        "trusted": true
      },
      "outputs": [
        {
          "name": "stdout",
          "output_type": "stream",
          "text": "<class 'pandas.core.frame.DataFrame'>\nRangeIndex: 20 entries, 0 to 19\nData columns (total 6 columns):\n #   Column                    Non-Null Count  Dtype  \n---  ------                    --------------  -----  \n 0   Launch Site               20 non-null     object \n 1   Payload Mass (kg)         20 non-null     int64  \n 2   Booster Version Category  20 non-null     object \n 3   class                     20 non-null     int64  \n 4   Lat                       20 non-null     float64\n 5   Long                      20 non-null     float64\ndtypes: float64(2), int64(2), object(2)\nmemory usage: 872.0+ bytes\n"
        },
        {
          "ename": "<class 'ImportError'>",
          "evalue": "matplotlib is required for plotting when the default backend \"matplotlib\" is selected.",
          "traceback": [
            "\u001b[0;31m---------------------------------------------------------------------------\u001b[0m",
            "\u001b[0;31mImportError\u001b[0m                               Traceback (most recent call last)",
            "Cell \u001b[0;32mIn[3], line 7\u001b[0m\n\u001b[1;32m      5\u001b[0m \u001b[38;5;66;03m# Success rate by launch site\u001b[39;00m\n\u001b[1;32m      6\u001b[0m site_success \u001b[38;5;241m=\u001b[39m df\u001b[38;5;241m.\u001b[39mgroupby(\u001b[38;5;124m'\u001b[39m\u001b[38;5;124mLaunch Site\u001b[39m\u001b[38;5;124m'\u001b[39m)[\u001b[38;5;124m'\u001b[39m\u001b[38;5;124mclass\u001b[39m\u001b[38;5;124m'\u001b[39m]\u001b[38;5;241m.\u001b[39mmean()\u001b[38;5;241m.\u001b[39msort_values(ascending\u001b[38;5;241m=\u001b[39m\u001b[38;5;28;01mFalse\u001b[39;00m)\n\u001b[0;32m----> 7\u001b[0m \u001b[43msite_success\u001b[49m\u001b[38;5;241;43m.\u001b[39;49m\u001b[43mplot\u001b[49m\u001b[43m(\u001b[49m\u001b[43mkind\u001b[49m\u001b[38;5;241;43m=\u001b[39;49m\u001b[38;5;124;43m'\u001b[39;49m\u001b[38;5;124;43mbar\u001b[39;49m\u001b[38;5;124;43m'\u001b[39;49m\u001b[43m,\u001b[49m\u001b[43m \u001b[49m\u001b[43mtitle\u001b[49m\u001b[38;5;241;43m=\u001b[39;49m\u001b[38;5;124;43m'\u001b[39;49m\u001b[38;5;124;43mSuccess Rate by Launch Site\u001b[39;49m\u001b[38;5;124;43m'\u001b[39;49m\u001b[43m)\u001b[49m\n\u001b[1;32m      8\u001b[0m plt\u001b[38;5;241m.\u001b[39mshow()\n\u001b[1;32m     10\u001b[0m \u001b[38;5;66;03m# Payload vs. Success\u001b[39;00m\n",
            "File \u001b[0;32m/lib/python3.12/site-packages/pandas/plotting/_core.py:947\u001b[0m, in \u001b[0;36mPlotAccessor.__call__\u001b[0;34m(self, *args, **kwargs)\u001b[0m\n\u001b[1;32m    946\u001b[0m \u001b[38;5;28;01mdef\u001b[39;00m \u001b[38;5;21m__call__\u001b[39m(\u001b[38;5;28mself\u001b[39m, \u001b[38;5;241m*\u001b[39margs, \u001b[38;5;241m*\u001b[39m\u001b[38;5;241m*\u001b[39mkwargs):\n\u001b[0;32m--> 947\u001b[0m     plot_backend \u001b[38;5;241m=\u001b[39m \u001b[43m_get_plot_backend\u001b[49m\u001b[43m(\u001b[49m\u001b[43mkwargs\u001b[49m\u001b[38;5;241;43m.\u001b[39;49m\u001b[43mpop\u001b[49m\u001b[43m(\u001b[49m\u001b[38;5;124;43m\"\u001b[39;49m\u001b[38;5;124;43mbackend\u001b[39;49m\u001b[38;5;124;43m\"\u001b[39;49m\u001b[43m,\u001b[49m\u001b[43m \u001b[49m\u001b[38;5;28;43;01mNone\u001b[39;49;00m\u001b[43m)\u001b[49m\u001b[43m)\u001b[49m\n\u001b[1;32m    949\u001b[0m     x, y, kind, kwargs \u001b[38;5;241m=\u001b[39m \u001b[38;5;28mself\u001b[39m\u001b[38;5;241m.\u001b[39m_get_call_args(\n\u001b[1;32m    950\u001b[0m         plot_backend\u001b[38;5;241m.\u001b[39m\u001b[38;5;18m__name__\u001b[39m, \u001b[38;5;28mself\u001b[39m\u001b[38;5;241m.\u001b[39m_parent, args, kwargs\n\u001b[1;32m    951\u001b[0m     )\n\u001b[1;32m    953\u001b[0m     kind \u001b[38;5;241m=\u001b[39m \u001b[38;5;28mself\u001b[39m\u001b[38;5;241m.\u001b[39m_kind_aliases\u001b[38;5;241m.\u001b[39mget(kind, kind)\n",
            "File \u001b[0;32m/lib/python3.12/site-packages/pandas/plotting/_core.py:1944\u001b[0m, in \u001b[0;36m_get_plot_backend\u001b[0;34m(backend)\u001b[0m\n\u001b[1;32m   1941\u001b[0m \u001b[38;5;28;01mif\u001b[39;00m backend_str \u001b[38;5;129;01min\u001b[39;00m _backends:\n\u001b[1;32m   1942\u001b[0m     \u001b[38;5;28;01mreturn\u001b[39;00m _backends[backend_str]\n\u001b[0;32m-> 1944\u001b[0m module \u001b[38;5;241m=\u001b[39m \u001b[43m_load_backend\u001b[49m\u001b[43m(\u001b[49m\u001b[43mbackend_str\u001b[49m\u001b[43m)\u001b[49m\n\u001b[1;32m   1945\u001b[0m _backends[backend_str] \u001b[38;5;241m=\u001b[39m module\n\u001b[1;32m   1946\u001b[0m \u001b[38;5;28;01mreturn\u001b[39;00m module\n",
            "File \u001b[0;32m/lib/python3.12/site-packages/pandas/plotting/_core.py:1874\u001b[0m, in \u001b[0;36m_load_backend\u001b[0;34m(backend)\u001b[0m\n\u001b[1;32m   1872\u001b[0m         module \u001b[38;5;241m=\u001b[39m importlib\u001b[38;5;241m.\u001b[39mimport_module(\u001b[38;5;124m\"\u001b[39m\u001b[38;5;124mpandas.plotting._matplotlib\u001b[39m\u001b[38;5;124m\"\u001b[39m)\n\u001b[1;32m   1873\u001b[0m     \u001b[38;5;28;01mexcept\u001b[39;00m \u001b[38;5;167;01mImportError\u001b[39;00m:\n\u001b[0;32m-> 1874\u001b[0m         \u001b[38;5;28;01mraise\u001b[39;00m \u001b[38;5;167;01mImportError\u001b[39;00m(\n\u001b[1;32m   1875\u001b[0m             \u001b[38;5;124m\"\u001b[39m\u001b[38;5;124mmatplotlib is required for plotting when the \u001b[39m\u001b[38;5;124m\"\u001b[39m\n\u001b[1;32m   1876\u001b[0m             \u001b[38;5;124m'\u001b[39m\u001b[38;5;124mdefault backend \u001b[39m\u001b[38;5;124m\"\u001b[39m\u001b[38;5;124mmatplotlib\u001b[39m\u001b[38;5;124m\"\u001b[39m\u001b[38;5;124m is selected.\u001b[39m\u001b[38;5;124m'\u001b[39m\n\u001b[1;32m   1877\u001b[0m         ) \u001b[38;5;28;01mfrom\u001b[39;00m \u001b[38;5;28;01mNone\u001b[39;00m\n\u001b[1;32m   1878\u001b[0m     \u001b[38;5;28;01mreturn\u001b[39;00m module\n\u001b[1;32m   1880\u001b[0m found_backend \u001b[38;5;241m=\u001b[39m \u001b[38;5;28;01mFalse\u001b[39;00m\n",
            "\u001b[0;31mImportError\u001b[0m: matplotlib is required for plotting when the default backend \"matplotlib\" is selected."
          ],
          "output_type": "error"
        }
      ],
      "execution_count": 3
    },
    {
      "id": "f811cf8d-5884-4651-a672-166ad044b342",
      "cell_type": "code",
      "source": "#### Map of launch sites\nlaunch_map = folium.Map(location=[28.563197, -80.576820], zoom_start=5)\nfor i, row in df.iterrows():\n    folium.CircleMarker(location=[row['Lat'], row['Long']], radius=5, color='green' if row['class'] == 1 else 'red').add_to(launch_map)\nlaunch_map\n",
      "metadata": {
        "jp-MarkdownHeadingCollapsed": true,
        "trusted": true
      },
      "outputs": [
        {
          "ename": "<class 'NameError'>",
          "evalue": "name 'folium' is not defined",
          "traceback": [
            "\u001b[0;31m---------------------------------------------------------------------------\u001b[0m",
            "\u001b[0;31mNameError\u001b[0m                                 Traceback (most recent call last)",
            "Cell \u001b[0;32mIn[4], line 2\u001b[0m\n\u001b[1;32m      1\u001b[0m \u001b[38;5;66;03m#### Map of launch sites\u001b[39;00m\n\u001b[0;32m----> 2\u001b[0m launch_map \u001b[38;5;241m=\u001b[39m \u001b[43mfolium\u001b[49m\u001b[38;5;241m.\u001b[39mMap(location\u001b[38;5;241m=\u001b[39m[\u001b[38;5;241m28.563197\u001b[39m, \u001b[38;5;241m-\u001b[39m\u001b[38;5;241m80.576820\u001b[39m], zoom_start\u001b[38;5;241m=\u001b[39m\u001b[38;5;241m5\u001b[39m)\n\u001b[1;32m      3\u001b[0m \u001b[38;5;28;01mfor\u001b[39;00m i, row \u001b[38;5;129;01min\u001b[39;00m df\u001b[38;5;241m.\u001b[39miterrows():\n\u001b[1;32m      4\u001b[0m     folium\u001b[38;5;241m.\u001b[39mCircleMarker(location\u001b[38;5;241m=\u001b[39m[row[\u001b[38;5;124m'\u001b[39m\u001b[38;5;124mLat\u001b[39m\u001b[38;5;124m'\u001b[39m], row[\u001b[38;5;124m'\u001b[39m\u001b[38;5;124mLong\u001b[39m\u001b[38;5;124m'\u001b[39m]], radius\u001b[38;5;241m=\u001b[39m\u001b[38;5;241m5\u001b[39m, color\u001b[38;5;241m=\u001b[39m\u001b[38;5;124m'\u001b[39m\u001b[38;5;124mgreen\u001b[39m\u001b[38;5;124m'\u001b[39m \u001b[38;5;28;01mif\u001b[39;00m row[\u001b[38;5;124m'\u001b[39m\u001b[38;5;124mclass\u001b[39m\u001b[38;5;124m'\u001b[39m] \u001b[38;5;241m==\u001b[39m \u001b[38;5;241m1\u001b[39m \u001b[38;5;28;01melse\u001b[39;00m \u001b[38;5;124m'\u001b[39m\u001b[38;5;124mred\u001b[39m\u001b[38;5;124m'\u001b[39m)\u001b[38;5;241m.\u001b[39madd_to(launch_map)\n",
            "\u001b[0;31mNameError\u001b[0m: name 'folium' is not defined"
          ],
          "output_type": "error"
        }
      ],
      "execution_count": 4
    },
    {
      "id": "2845c683-f906-41ab-a815-6ef54e6656f9",
      "cell_type": "code",
      "source": "import sqlite3\n\nconn = sqlite3.connect(':memory:')\ndf.to_sql('launches', conn, index=False)\n\n# Example query\nquery = \"SELECT `Launch Site`, AVG(class) as SuccessRate FROM launches GROUP BY `Launch Site` ORDER BY SuccessRate DESC\"\npd.read_sql(query, conn)\n",
      "metadata": {
        "trusted": true
      },
      "outputs": [
        {
          "execution_count": 5,
          "output_type": "execute_result",
          "data": {
            "text/plain": "    Launch Site  SuccessRate\n0  CCAFS SLC-40          0.8\n1   CCAFS LC-40          0.8\n2    KSC LC-39A          0.6\n3   VAFB SLC-4E          0.4",
            "text/html": "<div>\n<style scoped>\n    .dataframe tbody tr th:only-of-type {\n        vertical-align: middle;\n    }\n\n    .dataframe tbody tr th {\n        vertical-align: top;\n    }\n\n    .dataframe thead th {\n        text-align: right;\n    }\n</style>\n<table border=\"1\" class=\"dataframe\">\n  <thead>\n    <tr style=\"text-align: right;\">\n      <th></th>\n      <th>Launch Site</th>\n      <th>SuccessRate</th>\n    </tr>\n  </thead>\n  <tbody>\n    <tr>\n      <th>0</th>\n      <td>CCAFS SLC-40</td>\n      <td>0.8</td>\n    </tr>\n    <tr>\n      <th>1</th>\n      <td>CCAFS LC-40</td>\n      <td>0.8</td>\n    </tr>\n    <tr>\n      <th>2</th>\n      <td>KSC LC-39A</td>\n      <td>0.6</td>\n    </tr>\n    <tr>\n      <th>3</th>\n      <td>VAFB SLC-4E</td>\n      <td>0.4</td>\n    </tr>\n  </tbody>\n</table>\n</div>"
          },
          "metadata": {}
        }
      ],
      "execution_count": 5
    },
    {
      "id": "aee7ea01-b2af-4d5c-b654-af277872f787",
      "cell_type": "markdown",
      "source": "## 📊 Plotly Dash Dashboard\nInteractive dashboard built using Plotly and Dash to explore:\n- Success rate by launch site\n- Payload vs. success\n- Booster version filtering\nSee `spacex_dash_app.py` in the repository for full dashboard code.\n",
      "metadata": {}
    }
  ]
}